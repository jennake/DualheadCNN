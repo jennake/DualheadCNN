{
 "cells": [
  {
   "cell_type": "code",
   "execution_count": 3,
   "id": "65f0124e-5d6f-43c4-a086-60f6f06c0861",
   "metadata": {},
   "outputs": [],
   "source": [
    "# imports\n",
    "import numpy as np\n",
    "import torch\n",
    "import torch.nn as nn\n",
    "import matplotlib as mpl\n",
    "from torch.utils.data import DataLoader\n",
    "from torchvision import datasets\n",
    "from torchvision.transforms import ToTensor\n",
    "import matplotlib.pyplot as plt\n",
    "from sklearn.manifold import TSNE"
   ]
  },
  {
   "cell_type": "code",
   "execution_count": null,
   "id": "1723b820-a4a0-4b5a-94e9-deeb3b724499",
   "metadata": {},
   "outputs": [],
   "source": []
  },
  {
   "cell_type": "markdown",
   "id": "6e2be3eb-1f34-44fa-862a-5bdb5ecf9f83",
   "metadata": {},
   "source": [
    "# Galaxy Merger Classification + Redshift Estimation \n",
    "  "
   ]
  },
  {
   "cell_type": "markdown",
   "id": "7ace2936-a5c7-4b91-9277-00daa22c34d8",
   "metadata": {},
   "source": [
    "## 1. Data Loading  "
   ]
  },
  {
   "cell_type": "code",
   "execution_count": null,
   "id": "a436f4e7-3e98-422d-b3da-c60361efc398",
   "metadata": {},
   "outputs": [],
   "source": [
    "import pandas as pd\n",
    "import numpy as np\n",
    "from astropy.io import fits \n",
    "import matplotlib.pyplot as plt\n",
    "\n",
    "# Galaxy Zoo data:\n",
    "df = pd.read_csv('galaxy_zoo_metadata.csv')  \n",
    "print(df.head())\n",
    "\n",
    "# Check class balance\n",
    "print(\"\\nClass distribution:\")\n",
    "print(df['merger_label'].value_counts())"
   ]
  },
  {
   "cell_type": "markdown",
   "id": "f9a40e60-9091-42fa-9da4-9d6be23ab5a7",
   "metadata": {},
   "source": [
    "## 2. Preprocessing (Cleaning/Normalisation/Augmentation) "
   ]
  },
  {
   "cell_type": "markdown",
   "id": "3d69bda3-010e-443d-842e-57732cd3d671",
   "metadata": {},
   "source": [
    "## 3. Exploratory Data Analysis (Class Balance, Redshift Distribution) "
   ]
  },
  {
   "cell_type": "markdown",
   "id": "52e54f29-7e53-4120-baeb-ce73fce9e079",
   "metadata": {},
   "source": [
    "## 4. Baseline Models (Logistic Regression + Linear Regression)"
   ]
  },
  {
   "cell_type": "markdown",
   "id": "6c91ba7d-287a-49ba-a019-5abf24849719",
   "metadata": {},
   "source": [
    "## 5. CNN Implementation (Dual-Output Model) "
   ]
  },
  {
   "cell_type": "markdown",
   "id": "0609574a-a667-4cf7-8409-a615e124f7a9",
   "metadata": {},
   "source": [
    "## 6. Evaluation (Metrics, Visualisation)"
   ]
  },
  {
   "cell_type": "code",
   "execution_count": null,
   "id": "25b36ac2-1280-4959-90a0-2512e7c92cd6",
   "metadata": {},
   "outputs": [],
   "source": []
  }
 ],
 "metadata": {
  "kernelspec": {
   "display_name": "Python [conda env:base] *",
   "language": "python",
   "name": "conda-base-py"
  },
  "language_info": {
   "codemirror_mode": {
    "name": "ipython",
    "version": 3
   },
   "file_extension": ".py",
   "mimetype": "text/x-python",
   "name": "python",
   "nbconvert_exporter": "python",
   "pygments_lexer": "ipython3",
   "version": "3.12.2"
  }
 },
 "nbformat": 4,
 "nbformat_minor": 5
}
